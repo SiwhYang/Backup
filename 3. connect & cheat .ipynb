{
 "cells": [
  {
   "cell_type": "code",
   "execution_count": 451,
   "metadata": {},
   "outputs": [
    {
     "name": "stderr",
     "output_type": "stream",
     "text": [
      "C:\\Users\\User\\Anaconda3\\lib\\site-packages\\pandas\\core\\frame.py:6211: FutureWarning: Sorting because non-concatenation axis is not aligned. A future version\n",
      "of pandas will change to not sort by default.\n",
      "\n",
      "To accept the future behavior, pass 'sort=False'.\n",
      "\n",
      "To retain the current behavior and silence the warning, pass 'sort=True'.\n",
      "\n",
      "  sort=sort)\n"
     ]
    }
   ],
   "source": [
    "import pandas as pd \n",
    "import numpy as np \n",
    "from pandas import Series,DataFrame\n",
    "import matplotlib.pyplot as plt\n",
    "from sklearn.linear_model import LogisticRegression\n",
    "from sklearn.svm import SVC, LinearSVC\n",
    "from sklearn.ensemble import RandomForestClassifier\n",
    "from sklearn.neighbors import KNeighborsClassifier\n",
    "from sklearn.naive_bayes import GaussianNB\n",
    "from sklearn.linear_model import SGDClassifier\n",
    "from sklearn.tree import DecisionTreeClassifier\n",
    "from sklearn import metrics\n",
    "from sklearn.model_selection import cross_val_predict\n",
    "import seaborn as sns\n",
    "from sklearn import preprocessing\n",
    "from sklearn.preprocessing import LabelEncoder\n",
    "# 讀取資料 from \n",
    "train = pd.read_csv(\"C:/Users/User/Desktop/kaggle/Titanic/train.csv\")\n",
    "test  = pd.read_csv(\"C:/Users/User/Desktop//kaggle/Titanic//test.csv\")\n",
    "data = train.append(test)\n",
    "data['Sex'] = data['Sex'].map ( { 'female':0 , 'male':1 } ).astype(int)"
   ]
  },
  {
   "cell_type": "code",
   "execution_count": 452,
   "metadata": {},
   "outputs": [],
   "source": [
    "data['Fare'] = data['Fare'].map(lambda x: np.log10(x) if x>0 else 0)\n",
    "data['Fare 4'] = pd.qcut(data['Fare'],4).astype(str)\n",
    "data['Fare 5'] = pd.qcut(data['Fare'],5).astype(str)\n",
    "data['Fare 6'] = pd.qcut(data['Fare'],6).astype(str)\n",
    "#train['Fare 4'] = train['Fare 4'].astype(str)#轉換區間為字符以便encoder\n",
    "\n",
    "label = LabelEncoder()\n",
    "data['Fare 4'] = label.fit_transform(data['Fare 4'] )\n",
    "data['Fare 5'] = label.fit_transform(data['Fare 5'] )\n",
    "data['Fare 6'] = label.fit_transform(data['Fare 6'] )"
   ]
  },
  {
   "cell_type": "code",
   "execution_count": 453,
   "metadata": {
    "tags": [
     "Age",
     "feature"
    ]
   },
   "outputs": [
    {
     "name": "stderr",
     "output_type": "stream",
     "text": [
      "C:\\Users\\User\\Anaconda3\\lib\\site-packages\\ipykernel_launcher.py:5: SettingWithCopyWarning: \n",
      "A value is trying to be set on a copy of a slice from a DataFrame\n",
      "\n",
      "See the caveats in the documentation: http://pandas.pydata.org/pandas-docs/stable/indexing.html#indexing-view-versus-copy\n",
      "  \"\"\"\n",
      "C:\\Users\\User\\Anaconda3\\lib\\site-packages\\ipykernel_launcher.py:10: SettingWithCopyWarning: \n",
      "A value is trying to be set on a copy of a slice from a DataFrame\n",
      "\n",
      "See the caveats in the documentation: http://pandas.pydata.org/pandas-docs/stable/indexing.html#indexing-view-versus-copy\n",
      "  # Remove the CWD from sys.path while we load stuff.\n",
      "C:\\Users\\User\\Anaconda3\\lib\\site-packages\\ipykernel_launcher.py:15: SettingWithCopyWarning: \n",
      "A value is trying to be set on a copy of a slice from a DataFrame\n",
      "\n",
      "See the caveats in the documentation: http://pandas.pydata.org/pandas-docs/stable/indexing.html#indexing-view-versus-copy\n",
      "  from ipykernel import kernelapp as app\n",
      "C:\\Users\\User\\Anaconda3\\lib\\site-packages\\ipykernel_launcher.py:20: SettingWithCopyWarning: \n",
      "A value is trying to be set on a copy of a slice from a DataFrame\n",
      "\n",
      "See the caveats in the documentation: http://pandas.pydata.org/pandas-docs/stable/indexing.html#indexing-view-versus-copy\n",
      "C:\\Users\\User\\Anaconda3\\lib\\site-packages\\ipykernel_launcher.py:25: SettingWithCopyWarning: \n",
      "A value is trying to be set on a copy of a slice from a DataFrame\n",
      "\n",
      "See the caveats in the documentation: http://pandas.pydata.org/pandas-docs/stable/indexing.html#indexing-view-versus-copy\n",
      "C:\\Users\\User\\Anaconda3\\lib\\site-packages\\ipykernel_launcher.py:27: SettingWithCopyWarning: \n",
      "A value is trying to be set on a copy of a slice from a DataFrame\n",
      "\n",
      "See the caveats in the documentation: http://pandas.pydata.org/pandas-docs/stable/indexing.html#indexing-view-versus-copy\n",
      "C:\\Users\\User\\Anaconda3\\lib\\site-packages\\ipykernel_launcher.py:30: SettingWithCopyWarning: \n",
      "A value is trying to be set on a copy of a slice from a DataFrame\n",
      "\n",
      "See the caveats in the documentation: http://pandas.pydata.org/pandas-docs/stable/indexing.html#indexing-view-versus-copy\n",
      "C:\\Users\\User\\Anaconda3\\lib\\site-packages\\ipykernel_launcher.py:31: SettingWithCopyWarning: \n",
      "A value is trying to be set on a copy of a slice from a DataFrame\n",
      "\n",
      "See the caveats in the documentation: http://pandas.pydata.org/pandas-docs/stable/indexing.html#indexing-view-versus-copy\n",
      "C:\\Users\\User\\Anaconda3\\lib\\site-packages\\ipykernel_launcher.py:32: SettingWithCopyWarning: \n",
      "A value is trying to be set on a copy of a slice from a DataFrame\n",
      "\n",
      "See the caveats in the documentation: http://pandas.pydata.org/pandas-docs/stable/indexing.html#indexing-view-versus-copy\n"
     ]
    }
   ],
   "source": [
    "MrNumpre = data[ (data['Name'].str.contains('Mr.') == True) & (data['Name'].str.contains('Mrs') == False)]\n",
    "MrMedian_age = MrNumpre['Age'].median()\n",
    "\n",
    "data.Age[ (data['Name'].str.contains('Mr.') == True) & (data['Name'].str.contains('Mrs') == False)\n",
    "          & (data.Age.isnull()) ] = MrMedian_age\n",
    "\n",
    "#adding Mrs\n",
    "MrsNumpre = data[data['Name'].str.contains('Mrs.') == True]\n",
    "MrsMedian_age = MrsNumpre['Age'].median()\n",
    "data.Age[ (data['Name'].str.contains('Mrs') == True ) & (data.Age.isnull()) ] = MrsMedian_age\n",
    "\n",
    "#adding Miss.\n",
    "MissNumpre = data[data['Name'].str.contains('Miss.') == True]\n",
    "MissMedian_age = MissNumpre['Age'].median()\n",
    "data.Age[ (data['Name'].str.contains('Miss') == True ) & (data.Age.isnull()) ] = MissMedian_age\n",
    "\n",
    "#adding Master\n",
    "MasterNumpre = data[data['Name'].str.contains('Master') == True]\n",
    "MasterMedian_age = MasterNumpre['Age'].median()\n",
    "data.Age[ (data['Name'].str.contains('Master') == True ) & (data.Age.isnull()) ] = MasterMedian_age\n",
    "\n",
    "#adding Dr.\n",
    "DrNumpre = data[data['Name'].str.contains('Dr.') == True]\n",
    "DrMedian_age = DrNumpre['Age'].median()\n",
    "data.Age[ (data['Name'].str.contains('Dr') == True ) & (data.Age.isnull()) ] = DrMedian_age\n",
    "\n",
    "data.Age[data.Age.isnull()] = 25\n",
    "\n",
    "data['Age3'] = data['Age'] \n",
    "data.Age3[data['Age'] < 14 ] = 1\n",
    "data.Age3[ data['Age'].between(14,30)] = 2\n",
    "data.Age3[data['Age'] > 30 ] = 2"
   ]
  },
  {
   "cell_type": "code",
   "execution_count": 350,
   "metadata": {},
   "outputs": [
    {
     "name": "stderr",
     "output_type": "stream",
     "text": [
      "C:\\Users\\User\\Anaconda3\\lib\\site-packages\\ipykernel_launcher.py:18: SettingWithCopyWarning: \n",
      "A value is trying to be set on a copy of a slice from a DataFrame\n",
      "\n",
      "See the caveats in the documentation: http://pandas.pydata.org/pandas-docs/stable/indexing.html#indexing-view-versus-copy\n",
      "C:\\Users\\User\\Anaconda3\\lib\\site-packages\\ipykernel_launcher.py:15: SettingWithCopyWarning: \n",
      "A value is trying to be set on a copy of a slice from a DataFrame\n",
      "\n",
      "See the caveats in the documentation: http://pandas.pydata.org/pandas-docs/stable/indexing.html#indexing-view-versus-copy\n",
      "  from ipykernel import kernelapp as app\n",
      "C:\\Users\\User\\Anaconda3\\lib\\site-packages\\ipykernel_launcher.py:22: SettingWithCopyWarning: \n",
      "A value is trying to be set on a copy of a slice from a DataFrame\n",
      "\n",
      "See the caveats in the documentation: http://pandas.pydata.org/pandas-docs/stable/indexing.html#indexing-view-versus-copy\n"
     ]
    },
    {
     "data": {
      "text/plain": [
       "\"\\n\\n\\n\\n\\n\\n\\nticketD = []                                                        #先製造新list\\nfor ticket in data['Ticket'].unique():                              #將ticket種類頭跑到尾\\n    number = data.loc[data['Ticket'] == ticket]['Sex'].count()      #計算每種 ticket擁有的資料筆數\\n    if number>1:                                                    # 如果>1  表示兩人以上持有相同票號\\n        ticketD.append(data.loc[data['Ticket'] == ticket])          #將此種票號的資料加進list\\nticketD = pd.concat(ticketD)                                        #將list轉成pandas格式\\n  \\nticketD['connect'] = 0.5                                        #創新的connect column\\nticketD['Survived1'] = ticketD['Survived']                          #創新的sur 用來計算           \\n#ticketD['Survived1'] = ticketD['Survived1'].fillna(0.5)             #將無生存數據的資料在新sur填上0.5 \\n\\nfor ti in ticketD['Ticket'].unique():                                  #ticketD 的票號從頭跑到尾\\n    if  ticketD.loc[ticketD['Ticket'] == ti]['Survived1'].max()==1:\\n        ticketD.connect[ticketD['Ticket'] == ti] = 1\\n    elif  ticketD.loc[ticketD['Ticket'] == ti]['Survived1'].min()==0:    \\n          ticketD.connect[ticketD['Ticket'] == ti] = 0      \\n        \\ndata['connect'] = 0.5   \\nfor ti in ticketD['PassengerId']:                                   #ticketD是不同的資料型態\\n    data.connect[data['PassengerId']==ti] = ticketD.loc[ticketD['PassengerId']==ti]['connect'] \\n                                                              #將之融合回data 以pessengerID為對照\\n\\n\""
      ]
     },
     "execution_count": 350,
     "metadata": {},
     "output_type": "execute_result"
    }
   ],
   "source": [
    "\n",
    "ticketD = []                                                        #先製造新list\n",
    "for ticket in data['Ticket'].unique():                              #將ticket種類頭跑到尾\n",
    "    number = data.loc[data['Ticket'] == ticket]['Sex'].count()      #計算每種 ticket擁有的資料筆數\n",
    "    if number>1:                                                    # 如果>1  表示兩人以上持有相同票號\n",
    "        ticketD.append(data.loc[data['Ticket'] == ticket])          #將此種票號的資料加進list\n",
    "ticketD = pd.concat(ticketD)                                        #將list轉成pandas格式\n",
    "  \n",
    "ticketD['connect'] = np.nan                                         #創新的connect column\n",
    "ticketD['Survived1'] = ticketD['Survived']                          #創新的sur 用來計算           \n",
    "#ticketD['Survived1'] = ticketD['Survived1'].fillna(0.5)             #將無生存數據的資料在新sur填上0.5 \n",
    "\n",
    "for ti in ticketD['Ticket'].unique():                                  #ticketD 的票號從頭跑到尾\n",
    "    if ticketD.loc[ticketD['Ticket'] == ti]['Survived1'].isnull().all():\n",
    "        ticketD.connect[ticketD['Ticket'] == ti] = 0.5\n",
    "    else:    \n",
    "        mode = ticketD.loc[ticketD['Ticket'] == ti]['Survived1'].mode().mean() #將同樣票號的生存率取眾\n",
    "        ticketD.connect[ticketD['Ticket'] == ti] = mode                     #將結果放進connect column\n",
    "\n",
    "data['connect'] = 0.5   \n",
    "for ti in ticketD['PassengerId']:                                   #ticketD是不同的資料型態\n",
    "    data.connect[data['PassengerId']==ti] = ticketD.loc[ticketD['PassengerId']==ti]['connect'] \n",
    "                                                                    #將之融合回data 以pessengerID為對照\n",
    "'''\n",
    "\n",
    "\n",
    "\n",
    "\n",
    "\n",
    "\n",
    "ticketD = []                                                        #先製造新list\n",
    "for ticket in data['Ticket'].unique():                              #將ticket種類頭跑到尾\n",
    "    number = data.loc[data['Ticket'] == ticket]['Sex'].count()      #計算每種 ticket擁有的資料筆數\n",
    "    if number>1:                                                    # 如果>1  表示兩人以上持有相同票號\n",
    "        ticketD.append(data.loc[data['Ticket'] == ticket])          #將此種票號的資料加進list\n",
    "ticketD = pd.concat(ticketD)                                        #將list轉成pandas格式\n",
    "  \n",
    "ticketD['connect'] = 0.5                                        #創新的connect column\n",
    "ticketD['Survived1'] = ticketD['Survived']                          #創新的sur 用來計算           \n",
    "#ticketD['Survived1'] = ticketD['Survived1'].fillna(0.5)             #將無生存數據的資料在新sur填上0.5 \n",
    "\n",
    "for ti in ticketD['Ticket'].unique():                                  #ticketD 的票號從頭跑到尾\n",
    "    if  ticketD.loc[ticketD['Ticket'] == ti]['Survived1'].max()==1:\n",
    "        ticketD.connect[ticketD['Ticket'] == ti] = 1\n",
    "    elif  ticketD.loc[ticketD['Ticket'] == ti]['Survived1'].min()==0:    \n",
    "          ticketD.connect[ticketD['Ticket'] == ti] = 0      \n",
    "        \n",
    "data['connect'] = 0.5   \n",
    "for ti in ticketD['PassengerId']:                                   #ticketD是不同的資料型態\n",
    "    data.connect[data['PassengerId']==ti] = ticketD.loc[ticketD['PassengerId']==ti]['connect'] \n",
    "                                                              #將之融合回data 以pessengerID為對照\n",
    "\n",
    "'''  "
   ]
  },
  {
   "cell_type": "code",
   "execution_count": 458,
   "metadata": {},
   "outputs": [],
   "source": [
    "data['FamNum'] = data['SibSp'] + data['Parch']\n",
    "data['Firstname'] = data['Name'].str.split(',').apply(lambda x:x[0])\n",
    "#NameSurvivedrate = data.groupby('Firstname',as_index=False)[['Survived']].mean()\n",
    "girl = data[(data['Sex']==0) & (data['Age3']<=1) & (data['FamNum']>=2)]\n",
    "oldman = data[(data['Sex']==1) & (data['Age3']>=2 ) &(data['FamNum']>=2)]\n",
    "\n",
    "manname = oldman.groupby('Firstname')[['Survived']].mean()\n",
    "manname = manname[manname['Survived']==1].index\n",
    "\n",
    "\n",
    "womanname = girl.groupby('Firstname')[['Survived']].mean()\n",
    "womanname = womanname[womanname['Survived']==0].index\n",
    "\n",
    "\n",
    "\n",
    "data.loc[(data['Survived'].isnull())&(data['Firstname'].isin(manname))&(data['Sex']==1),'Age3']=1\n",
    "data.loc[(data['Survived'].isnull())&(data['Firstname'].isin(manname))&(data['Sex']==1),'Sex']=0\n",
    "\n",
    "data.loc[(data['Survived'].isnull())&(data['Firstname'].isin(womanname))&(data['Sex']==1),'Age3']=2\n",
    "data.loc[(data['Survived'].isnull())&(data['Firstname'].isin(womanname))&(data['Sex']==1),'Sex']=1"
   ]
  },
  {
   "cell_type": "code",
   "execution_count": 456,
   "metadata": {},
   "outputs": [
    {
     "name": "stdout",
     "output_type": "stream",
     "text": [
      "0.8181818181818182\n"
     ]
    }
   ],
   "source": [
    "con=['Sex','Pclass','Fare 5','Age3']#,'connect']\n",
    "test  = data[data['Survived'].isnull()]\n",
    "train = data[data['Survived'].notnull()]\n",
    "\n",
    "Y = train['Survived']\n",
    "X = train.drop(['Survived','PassengerId'],axis=1)\n",
    "\n",
    "Model = RandomForestClassifier(random_state=5,n_estimators=3050,min_samples_split=20,oob_score=True)\n",
    "Model.fit(X[con],Y)\n",
    "print(Model.oob_score_)\n",
    "\n"
   ]
  },
  {
   "cell_type": "code",
   "execution_count": 457,
   "metadata": {},
   "outputs": [],
   "source": [
    "X_submit = test.drop(['PassengerId'],axis=1)\n",
    "Y_submit = Model.predict(X_submit[con])\n",
    "\n",
    "submit = pd.DataFrame({   \"PassengerId\": test['PassengerId'],\n",
    "                           \"Survived\"  : Y_submit.astype(int)})\n",
    "submit.to_csv(\"submit con.csv\",index=False)"
   ]
  },
  {
   "cell_type": "code",
   "execution_count": 142,
   "metadata": {},
   "outputs": [
    {
     "name": "stderr",
     "output_type": "stream",
     "text": [
      "C:\\Users\\User\\Anaconda3\\lib\\site-packages\\scipy\\stats\\stats.py:1713: FutureWarning: Using a non-tuple sequence for multidimensional indexing is deprecated; use `arr[tuple(seq)]` instead of `arr[seq]`. In the future this will be interpreted as an array index, `arr[np.array(seq)]`, which will result either in an error or a different result.\n",
      "  return np.add.reduce(sorted[indexer] * weights, axis=axis) / sumval\n"
     ]
    },
    {
     "data": {
      "text/html": [
       "<div>\n",
       "<style scoped>\n",
       "    .dataframe tbody tr th:only-of-type {\n",
       "        vertical-align: middle;\n",
       "    }\n",
       "\n",
       "    .dataframe tbody tr th {\n",
       "        vertical-align: top;\n",
       "    }\n",
       "\n",
       "    .dataframe thead th {\n",
       "        text-align: right;\n",
       "    }\n",
       "</style>\n",
       "<table border=\"1\" class=\"dataframe\">\n",
       "  <thead>\n",
       "    <tr style=\"text-align: right;\">\n",
       "      <th></th>\n",
       "      <th>Survived</th>\n",
       "    </tr>\n",
       "    <tr>\n",
       "      <th>connect</th>\n",
       "      <th></th>\n",
       "    </tr>\n",
       "  </thead>\n",
       "  <tbody>\n",
       "    <tr>\n",
       "      <th>0.0</th>\n",
       "      <td>0.000000</td>\n",
       "    </tr>\n",
       "    <tr>\n",
       "      <th>0.5</th>\n",
       "      <td>0.270270</td>\n",
       "    </tr>\n",
       "    <tr>\n",
       "      <th>1.0</th>\n",
       "      <td>0.794007</td>\n",
       "    </tr>\n",
       "  </tbody>\n",
       "</table>\n",
       "</div>"
      ],
      "text/plain": [
       "         Survived\n",
       "connect          \n",
       "0.0      0.000000\n",
       "0.5      0.270270\n",
       "1.0      0.794007"
      ]
     },
     "execution_count": 142,
     "metadata": {},
     "output_type": "execute_result"
    },
    {
     "data": {
      "image/png": "[encoded data removed]",
      "text/plain": [
       "<Figure size 432x288 with 1 Axes>"
      ]
     },
     "metadata": {
      "needs_background": "light"
     },
     "output_type": "display_data"
    }
   ],
   "source": [
    "sns.barplot(x=data['connect'],y=data['Survived'])\n",
    "data.groupby('connect')[['Survived']].mean()"
   ]
  },
  {
   "cell_type": "code",
   "execution_count": 335,
   "metadata": {},
   "outputs": [],
   "source": []
  },
  {
   "cell_type": "code",
   "execution_count": null,
   "metadata": {},
   "outputs": [],
   "source": []
  }
 ],
 "metadata": {
  "celltoolbar": "Tags",
  "kernelspec": {
   "display_name": "Python 3",
   "language": "python",
   "name": "python3"
  },
  "language_info": {
   "codemirror_mode": {
    "name": "ipython",
    "version": 3
   },
   "file_extension": ".py",
   "mimetype": "text/x-python",
   "name": "python",
   "nbconvert_exporter": "python",
   "pygments_lexer": "ipython3",
   "version": "3.6.6"
  }
 },
 "nbformat": 4,
 "nbformat_minor": 2
}
