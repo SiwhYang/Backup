{
 "cells": [
  {
   "cell_type": "code",
   "execution_count": 29,
   "metadata": {},
   "outputs": [
    {
     "name": "stderr",
     "output_type": "stream",
     "text": [
      "C:\\Users\\User\\Anaconda3\\lib\\site-packages\\pandas\\core\\frame.py:6211: FutureWarning: Sorting because non-concatenation axis is not aligned. A future version\n",
      "of pandas will change to not sort by default.\n",
      "\n",
      "To accept the future behavior, pass 'sort=False'.\n",
      "\n",
      "To retain the current behavior and silence the warning, pass 'sort=True'.\n",
      "\n",
      "  sort=sort)\n"
     ]
    }
   ],
   "source": [
    "import pandas as pd \n",
    "import numpy as np \n",
    "from pandas import Series,DataFrame\n",
    "import matplotlib.pyplot as plt\n",
    "from sklearn.linear_model import LogisticRegression\n",
    "from sklearn.svm import SVC, LinearSVC\n",
    "from sklearn.ensemble import RandomForestClassifier\n",
    "from sklearn.neighbors import KNeighborsClassifier\n",
    "from sklearn.naive_bayes import GaussianNB\n",
    "from sklearn.linear_model import SGDClassifier\n",
    "from sklearn.tree import DecisionTreeClassifier\n",
    "from sklearn import metrics\n",
    "from sklearn.model_selection import cross_val_predict\n",
    "import seaborn as sns\n",
    "from sklearn import preprocessing\n",
    "from sklearn.preprocessing import LabelEncoder\n",
    "# 讀取資料 from \n",
    "train = pd.read_csv(\"C:/Users/User/Desktop/kaggle/Titanic/train.csv\")\n",
    "test  = pd.read_csv(\"C:/Users/User/Desktop//kaggle/Titanic//test.csv\")\n",
    "data = train.append(test)\n",
    "data['Sex'] = data['Sex'].map ( { 'female':0 , 'male':1 } ).astype(int)"
   ]
  },
  {
   "cell_type": "code",
   "execution_count": 30,
   "metadata": {
    "tags": [
     "test",
     "label_fit"
    ]
   },
   "outputs": [
    {
     "data": {
      "text/plain": [
       "<matplotlib.axes._subplots.AxesSubplot at 0x1f646acc2b0>"
      ]
     },
     "execution_count": 30,
     "metadata": {},
     "output_type": "execute_result"
    },
    {
     "data": {
      "image/png": "[encoded data removed]",
      "text/plain": [
       "<Figure size 432x288 with 3 Axes>"
      ]
     },
     "metadata": {
      "needs_background": "light"
     },
     "output_type": "display_data"
    }
   ],
   "source": [
    "data['Fare'] = data['Fare'].map(lambda x: np.log10(x) if x>0 else 0)\n",
    "data['Fare 4'] = pd.qcut(data['Fare'],4).astype(str)\n",
    "data['Fare 5'] = pd.qcut(data['Fare'],5).astype(str)\n",
    "data['Fare 6'] = pd.qcut(data['Fare'],6).astype(str)\n",
    "#train['Fare 4'] = train['Fare 4'].astype(str)#轉換區間為字符以便encoder\n",
    "\n",
    "label = LabelEncoder()\n",
    "data['Fare 4'] = label.fit_transform(data['Fare 4'] )\n",
    "data['Fare 5'] = label.fit_transform(data['Fare 5'] )\n",
    "data['Fare 6'] = label.fit_transform(data['Fare 6'] )\n",
    "\n",
    "\n",
    "y4 = data.groupby('Fare 4')['Survived'].mean()\n",
    "y5 = data.groupby('Fare 5')['Survived'].mean()\n",
    "y6 = data.groupby('Fare 6')['Survived'].mean()\n",
    "\n",
    "\n",
    "pos = [0,1,2,3]\n",
    "plt.subplot(1, 3, 1)\n",
    "sns.barplot(pos,y4)\n",
    "pos = [0,1,2,3,4]\n",
    "plt.subplot(1, 3, 2)\n",
    "sns.barplot(pos,y5)\n",
    "pos = [0,1,2,3,4,5]\n",
    "plt.subplot(1, 3, 3)\n",
    "sns.barplot(pos,y6)"
   ]
  },
  {
   "cell_type": "code",
   "execution_count": 31,
   "metadata": {
    "tags": [
     "OOB",
     "fare_cut"
    ]
   },
   "outputs": [
    {
     "name": "stdout",
     "output_type": "stream",
     "text": [
      "0.8103254769921436\n"
     ]
    }
   ],
   "source": [
    "fare=['Sex','Pclass','Fare 5']\n",
    "test  = data[data['Survived'].isnull()]\n",
    "train = data[data['Survived'].notnull()]\n",
    "Y = train['Survived']\n",
    "X = train.drop(['Survived','PassengerId'],axis=1)\n",
    "\n",
    "Model = RandomForestClassifier(random_state=2,n_estimators=250,min_samples_split=20,oob_score=True)\n",
    "Model.fit(X[fare],Y)\n",
    "print(Model.oob_score_)"
   ]
  },
  {
   "cell_type": "code",
   "execution_count": 32,
   "metadata": {},
   "outputs": [],
   "source": [
    "X_submit = test.drop(['PassengerId'],axis=1)\n",
    "Y_submit = Model.predict(X_submit[fare])\n",
    "\n",
    "submit = pd.DataFrame({\"PassengerId\": test['PassengerId'],\n",
    "                      \"Survived\":Y_submit.astype(int)})\n",
    "submit.to_csv(\"submit Fare cut.csv\",index=False)"
   ]
  },
  {
   "cell_type": "code",
   "execution_count": null,
   "metadata": {},
   "outputs": [],
   "source": []
  }
 ],
 "metadata": {
  "celltoolbar": "Tags",
  "kernelspec": {
   "display_name": "Python 3",
   "language": "python",
   "name": "python3"
  },
  "language_info": {
   "codemirror_mode": {
    "name": "ipython",
    "version": 3
   },
   "file_extension": ".py",
   "mimetype": "text/x-python",
   "name": "python",
   "nbconvert_exporter": "python",
   "pygments_lexer": "ipython3",
   "version": "3.6.6"
  }
 },
 "nbformat": 4,
 "nbformat_minor": 2
}
