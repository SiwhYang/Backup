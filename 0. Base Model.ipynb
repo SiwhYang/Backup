{
 "cells": [
  {
   "cell_type": "code",
   "execution_count": 14,
   "metadata": {},
   "outputs": [
    {
     "name": "stderr",
     "output_type": "stream",
     "text": [
      "C:\\Users\\User\\Anaconda3\\lib\\site-packages\\pandas\\core\\frame.py:6211: FutureWarning: Sorting because non-concatenation axis is not aligned. A future version\n",
      "of pandas will change to not sort by default.\n",
      "\n",
      "To accept the future behavior, pass 'sort=False'.\n",
      "\n",
      "To retain the current behavior and silence the warning, pass 'sort=True'.\n",
      "\n",
      "  sort=sort)\n"
     ]
    }
   ],
   "source": [
    "import pandas as pd \n",
    "import numpy as np \n",
    "from pandas import Series,DataFrame\n",
    "import matplotlib.pyplot as plt\n",
    "from sklearn.linear_model import LogisticRegression\n",
    "from sklearn.svm import SVC, LinearSVC\n",
    "from sklearn.ensemble import RandomForestClassifier\n",
    "from sklearn.neighbors import KNeighborsClassifier\n",
    "from sklearn.naive_bayes import GaussianNB\n",
    "from sklearn.linear_model import SGDClassifier\n",
    "from sklearn.tree import DecisionTreeClassifier\n",
    "from sklearn import metrics\n",
    "from sklearn.model_selection import cross_val_predict\n",
    "import seaborn as sns\n",
    "from sklearn import preprocessing\n",
    "from sklearn.preprocessing import LabelEncoder\n",
    "# 讀取資料 from \n",
    "train = pd.read_csv(\"C:/Users/User/Desktop/kaggle/Titanic/train.csv\")\n",
    "test  = pd.read_csv(\"C:/Users/User/Desktop//kaggle/Titanic//test.csv\")\n",
    "data = train.append(test)\n",
    "data['Sex'] = data['Sex'].map ( { 'female':0 , 'male':1 } ).astype(int)"
   ]
  },
  {
   "cell_type": "code",
   "execution_count": 15,
   "metadata": {},
   "outputs": [
    {
     "name": "stdout",
     "output_type": "stream",
     "text": [
      "0.819304152637486\n"
     ]
    }
   ],
   "source": [
    "Base=['Sex','Pclass','Fare']\n",
    "#data['Fare'] = data['Fare'].map(lambda x: np.log10(x) if x>0 else 0)\n",
    "from sklearn.feature_selection import RFECV\n",
    "test  = data[data['Survived'].isnull()]\n",
    "train = data[data['Survived'].notnull()]\n",
    "Y = train['Survived']\n",
    "X = train.drop(['Survived','PassengerId'],axis=1)\n",
    "\n",
    "Model = RandomForestClassifier(random_state=2,n_estimators=2500,min_samples_split=20,oob_score=True)\n",
    "Model.fit(X[Base],Y)\n",
    "print(Model.oob_score_)\n"
   ]
  },
  {
   "cell_type": "code",
   "execution_count": 16,
   "metadata": {},
   "outputs": [
    {
     "name": "stderr",
     "output_type": "stream",
     "text": [
      "C:\\Users\\User\\Anaconda3\\lib\\site-packages\\ipykernel_launcher.py:1: SettingWithCopyWarning: \n",
      "A value is trying to be set on a copy of a slice from a DataFrame.\n",
      "Try using .loc[row_indexer,col_indexer] = value instead\n",
      "\n",
      "See the caveats in the documentation: http://pandas.pydata.org/pandas-docs/stable/indexing.html#indexing-view-versus-copy\n",
      "  \"\"\"Entry point for launching an IPython kernel.\n"
     ]
    }
   ],
   "source": [
    "test['Fare'] = test['Fare'].fillna(test['Fare'].median())\n",
    "X_submit = test.drop(['PassengerId'],axis=1)\n",
    "Y_submit = Model.predict(X_submit[Base])\n",
    "\n",
    "submit = pd.DataFrame({\"PassengerId\": test['PassengerId'],\n",
    "                      \"Survived\":Y_submit.astype(int)})\n",
    "submit.to_csv(\"submit_add Fare.csv\",index=False)"
   ]
  },
  {
   "cell_type": "code",
   "execution_count": null,
   "metadata": {},
   "outputs": [],
   "source": []
  }
 ],
 "metadata": {
  "kernelspec": {
   "display_name": "Python 3",
   "language": "python",
   "name": "python3"
  },
  "language_info": {
   "codemirror_mode": {
    "name": "ipython",
    "version": 3
   },
   "file_extension": ".py",
   "mimetype": "text/x-python",
   "name": "python",
   "nbconvert_exporter": "python",
   "pygments_lexer": "ipython3",
   "version": "3.6.6"
  }
 },
 "nbformat": 4,
 "nbformat_minor": 2
}
