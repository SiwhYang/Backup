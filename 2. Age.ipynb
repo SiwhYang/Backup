{
 "cells": [
  {
   "cell_type": "code",
   "execution_count": 1,
   "metadata": {},
   "outputs": [
    {
     "name": "stderr",
     "output_type": "stream",
     "text": [
      "C:\\Users\\User\\Anaconda3\\lib\\site-packages\\pandas\\core\\frame.py:6211: FutureWarning: Sorting because non-concatenation axis is not aligned. A future version\n",
      "of pandas will change to not sort by default.\n",
      "\n",
      "To accept the future behavior, pass 'sort=False'.\n",
      "\n",
      "To retain the current behavior and silence the warning, pass 'sort=True'.\n",
      "\n",
      "  sort=sort)\n"
     ]
    }
   ],
   "source": [
    "import pandas as pd \n",
    "import numpy as np \n",
    "from pandas import Series,DataFrame\n",
    "import matplotlib.pyplot as plt\n",
    "from sklearn.linear_model import LogisticRegression\n",
    "from sklearn.svm import SVC, LinearSVC\n",
    "from sklearn.ensemble import RandomForestClassifier\n",
    "from sklearn.neighbors import KNeighborsClassifier\n",
    "from sklearn.naive_bayes import GaussianNB\n",
    "from sklearn.linear_model import SGDClassifier\n",
    "from sklearn.tree import DecisionTreeClassifier\n",
    "from sklearn import metrics\n",
    "from sklearn.model_selection import cross_val_predict\n",
    "import seaborn as sns\n",
    "from sklearn import preprocessing\n",
    "from sklearn.preprocessing import LabelEncoder\n",
    "# 讀取資料 from \n",
    "train = pd.read_csv(\"C:/Users/User/Desktop/kaggle/Titanic/train.csv\")\n",
    "test  = pd.read_csv(\"C:/Users/User/Desktop//kaggle/Titanic//test.csv\")\n",
    "data = train.append(test)\n",
    "data['Sex'] = data['Sex'].map ( { 'female':0 , 'male':1 } ).astype(int)"
   ]
  },
  {
   "cell_type": "code",
   "execution_count": 2,
   "metadata": {},
   "outputs": [],
   "source": [
    "data['Fare'] = data['Fare'].map(lambda x: np.log10(x) if x>0 else 0)\n",
    "data['Fare 4'] = pd.qcut(data['Fare'],4).astype(str)\n",
    "data['Fare 5'] = pd.qcut(data['Fare'],5).astype(str)\n",
    "data['Fare 6'] = pd.qcut(data['Fare'],6).astype(str)\n",
    "#train['Fare 4'] = train['Fare 4'].astype(str)#轉換區間為字符以便encoder\n",
    "\n",
    "label = LabelEncoder()\n",
    "data['Fare 4'] = label.fit_transform(data['Fare 4'] )\n",
    "data['Fare 5'] = label.fit_transform(data['Fare 5'] )\n",
    "data['Fare 6'] = label.fit_transform(data['Fare 6'] )"
   ]
  },
  {
   "cell_type": "code",
   "execution_count": 3,
   "metadata": {
    "tags": [
     "Age",
     "feature"
    ]
   },
   "outputs": [
    {
     "name": "stderr",
     "output_type": "stream",
     "text": [
      "C:\\Users\\User\\Anaconda3\\lib\\site-packages\\ipykernel_launcher.py:5: SettingWithCopyWarning: \n",
      "A value is trying to be set on a copy of a slice from a DataFrame\n",
      "\n",
      "See the caveats in the documentation: http://pandas.pydata.org/pandas-docs/stable/indexing.html#indexing-view-versus-copy\n",
      "  \"\"\"\n",
      "C:\\Users\\User\\Anaconda3\\lib\\site-packages\\ipykernel_launcher.py:10: SettingWithCopyWarning: \n",
      "A value is trying to be set on a copy of a slice from a DataFrame\n",
      "\n",
      "See the caveats in the documentation: http://pandas.pydata.org/pandas-docs/stable/indexing.html#indexing-view-versus-copy\n",
      "  # Remove the CWD from sys.path while we load stuff.\n",
      "C:\\Users\\User\\Anaconda3\\lib\\site-packages\\ipykernel_launcher.py:15: SettingWithCopyWarning: \n",
      "A value is trying to be set on a copy of a slice from a DataFrame\n",
      "\n",
      "See the caveats in the documentation: http://pandas.pydata.org/pandas-docs/stable/indexing.html#indexing-view-versus-copy\n",
      "  from ipykernel import kernelapp as app\n",
      "C:\\Users\\User\\Anaconda3\\lib\\site-packages\\ipykernel_launcher.py:20: SettingWithCopyWarning: \n",
      "A value is trying to be set on a copy of a slice from a DataFrame\n",
      "\n",
      "See the caveats in the documentation: http://pandas.pydata.org/pandas-docs/stable/indexing.html#indexing-view-versus-copy\n",
      "C:\\Users\\User\\Anaconda3\\lib\\site-packages\\ipykernel_launcher.py:25: SettingWithCopyWarning: \n",
      "A value is trying to be set on a copy of a slice from a DataFrame\n",
      "\n",
      "See the caveats in the documentation: http://pandas.pydata.org/pandas-docs/stable/indexing.html#indexing-view-versus-copy\n",
      "C:\\Users\\User\\Anaconda3\\lib\\site-packages\\ipykernel_launcher.py:27: SettingWithCopyWarning: \n",
      "A value is trying to be set on a copy of a slice from a DataFrame\n",
      "\n",
      "See the caveats in the documentation: http://pandas.pydata.org/pandas-docs/stable/indexing.html#indexing-view-versus-copy\n",
      "C:\\Users\\User\\Anaconda3\\lib\\site-packages\\ipykernel_launcher.py:30: SettingWithCopyWarning: \n",
      "A value is trying to be set on a copy of a slice from a DataFrame\n",
      "\n",
      "See the caveats in the documentation: http://pandas.pydata.org/pandas-docs/stable/indexing.html#indexing-view-versus-copy\n",
      "C:\\Users\\User\\Anaconda3\\lib\\site-packages\\ipykernel_launcher.py:31: SettingWithCopyWarning: \n",
      "A value is trying to be set on a copy of a slice from a DataFrame\n",
      "\n",
      "See the caveats in the documentation: http://pandas.pydata.org/pandas-docs/stable/indexing.html#indexing-view-versus-copy\n",
      "C:\\Users\\User\\Anaconda3\\lib\\site-packages\\ipykernel_launcher.py:32: SettingWithCopyWarning: \n",
      "A value is trying to be set on a copy of a slice from a DataFrame\n",
      "\n",
      "See the caveats in the documentation: http://pandas.pydata.org/pandas-docs/stable/indexing.html#indexing-view-versus-copy\n"
     ]
    }
   ],
   "source": [
    "MrNumpre = data[ (data['Name'].str.contains('Mr.') == True) & (data['Name'].str.contains('Mrs') == False)]\n",
    "MrMedian_age = MrNumpre['Age'].median()\n",
    "\n",
    "data.Age[ (data['Name'].str.contains('Mr.') == True) & (data['Name'].str.contains('Mrs') == False)\n",
    "          & (data.Age.isnull()) ] = MrMedian_age\n",
    "\n",
    "#adding Mrs\n",
    "MrsNumpre = data[data['Name'].str.contains('Mrs.') == True]\n",
    "MrsMedian_age = MrsNumpre['Age'].median()\n",
    "data.Age[ (data['Name'].str.contains('Mrs') == True ) & (data.Age.isnull()) ] = MrsMedian_age\n",
    "\n",
    "#adding Miss.\n",
    "MissNumpre = data[data['Name'].str.contains('Miss.') == True]\n",
    "MissMedian_age = MissNumpre['Age'].median()\n",
    "data.Age[ (data['Name'].str.contains('Miss') == True ) & (data.Age.isnull()) ] = MissMedian_age\n",
    "\n",
    "#adding Master\n",
    "MasterNumpre = data[data['Name'].str.contains('Master') == True]\n",
    "MasterMedian_age = MasterNumpre['Age'].median()\n",
    "data.Age[ (data['Name'].str.contains('Master') == True ) & (data.Age.isnull()) ] = MasterMedian_age\n",
    "\n",
    "#adding Dr.\n",
    "DrNumpre = data[data['Name'].str.contains('Dr.') == True]\n",
    "DrMedian_age = DrNumpre['Age'].median()\n",
    "data.Age[ (data['Name'].str.contains('Dr') == True ) & (data.Age.isnull()) ] = DrMedian_age\n",
    "\n",
    "data.Age[data.Age.isnull()] = 25\n",
    "\n",
    "data['Age3'] = data['Age'] \n",
    "data.Age3[data['Age'] < 15 ] = 1\n",
    "data.Age3[ data['Age'].between(15,30)] = 2\n",
    "data.Age3[data['Age'] > 30 ] = 2"
   ]
  },
  {
   "cell_type": "code",
   "execution_count": 4,
   "metadata": {},
   "outputs": [
    {
     "name": "stdout",
     "output_type": "stream",
     "text": [
      "0.8114478114478114\n"
     ]
    }
   ],
   "source": [
    "Age=['Sex','Pclass','Fare 5','Age3']\n",
    "test  = data[data['Survived'].isnull()]\n",
    "train = data[data['Survived'].notnull()]\n",
    "\n",
    "Y = train['Survived']\n",
    "X = train.drop(['Survived','PassengerId'],axis=1)\n",
    "\n",
    "Model = RandomForestClassifier(random_state=2,n_estimators=250,min_samples_split=20,oob_score=True)\n",
    "Model.fit(X[Age],Y)\n",
    "print(Model.oob_score_)"
   ]
  },
  {
   "cell_type": "code",
   "execution_count": 5,
   "metadata": {},
   "outputs": [],
   "source": [
    "X_submit = test.drop(['PassengerId'],axis=1)\n",
    "Y_submit = Model.predict(X_submit[Age])\n",
    "\n",
    "submit = pd.DataFrame({\"PassengerId\": test['PassengerId'],\n",
    "                      \"Survived\":Y_submit.astype(int)})\n",
    "submit.to_csv(\"submit Age.csv\",index=False)"
   ]
  },
  {
   "cell_type": "code",
   "execution_count": null,
   "metadata": {},
   "outputs": [],
   "source": []
  }
 ],
 "metadata": {
  "celltoolbar": "Tags",
  "kernelspec": {
   "display_name": "Python 3",
   "language": "python",
   "name": "python3"
  },
  "language_info": {
   "codemirror_mode": {
    "name": "ipython",
    "version": 3
   },
   "file_extension": ".py",
   "mimetype": "text/x-python",
   "name": "python",
   "nbconvert_exporter": "python",
   "pygments_lexer": "ipython3",
   "version": "3.6.6"
  }
 },
 "nbformat": 4,
 "nbformat_minor": 2
}
